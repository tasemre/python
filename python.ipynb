{
 "cells": [
  {
   "cell_type": "code",
   "execution_count": null,
   "id": "ed7d4504",
   "metadata": {},
   "outputs": [],
   "source": [
    "# Değişkenlerin tanımlanması\n",
    "var1, var2 = 10, 15\n",
    "gun = \"pazartesi\"\n",
    "var3 = 10.0\n",
    "\n",
    "# Değişkenlerin ekrana yazdırılması\n",
    "print(var1)\n",
    "print(var2)\n",
    "print(gun)\n",
    "print(var3)\n"
   ]
  },
  {
   "cell_type": "code",
   "execution_count": null,
   "id": "d643344a",
   "metadata": {},
   "outputs": [],
   "source": [
    "# Integer değişkenlerin listeye atanması\n",
    "var1, var2, var3 = 10, 20, 30\n",
    "\n",
    "# Liste tanımlama ve özellikleri\n",
    "list_int = [1, 2, 3, 4, 5, 6]\n",
    "list_str = [\"pazartesi\", \"salı\", \"çarşamba\"]\n",
    "list_divide = list_int[0:3]\n",
    "\n",
    "# Liste elemanlarına erişim\n",
    "value = list_int[0]\n",
    "value1 = list_int[-1]\n",
    "\n",
    "# Liste methodları\n",
    "list_int.append(7)\n",
    "list_int.remove(7)\n",
    "list_int.reverse()\n",
    "list_yeni = [3, 5, 2, 6, 1, 4]\n",
    "list_yeni.sort()\n",
    "\n",
    "# Liste içinde farklı tiplerde veriler\n",
    "string_int_list = [\"sevval\", \"ilhan\", 15, 1, 2000]\n",
    "\n",
    "# Değişkenlerin ekrana yazdırılması\n",
    "print(var1, var2, var3)\n",
    "print(type(list_int))\n",
    "print(type(list_str))\n",
    "print(list_divide)\n",
    "print(value, value1)\n",
    "print(dir(list_int))\n",
    "print(help(list_int.append))\n",
    "print(list_int)\n",
    "print(list_yeni)\n",
    "print(string_int_list)\n"
   ]
  },
  {
   "cell_type": "code",
   "execution_count": null,
   "id": "1dd5414a",
   "metadata": {},
   "outputs": [],
   "source": [
    "for loop ile listedeki çift sayıları ekrana yazdırma\n",
    "liste = [1, 2, 3, 4, 5, 6, 7, 8, 9, 10]\n",
    "\n",
    "for num in liste:\n",
    "if num % 2 == 0: # çift sayıları bulma\n",
    "print(num)\n",
    "\n",
    "for loop ile stringdeki harfleri ekrana yazdırma\n",
    "string = \"ankara istanbul\"\n",
    "\n",
    "for char in string:\n",
    "print(char)\n",
    "\n",
    "listedeki sayıların toplamını bulma\n",
    "liste = [1, 4, 6, 8, 3, 5, 9, 2, 43, 57]\n",
    "\n",
    "toplam = 0\n",
    "\n",
    "for num in liste:\n",
    "toplam += num\n",
    "\n",
    "print(toplam)\n",
    "\n",
    "listedeki en küçük elemanı bulma\n",
    "liste1 = [1, 2, 3, 4, 5, 6, -500, 23, 451, 67, 21, 23]\n",
    "\n",
    "minimum = liste1[0]\n",
    "\n",
    "for num in liste1:\n",
    "if num < minimum:\n",
    "minimum = num\n",
    "\n",
    "print(minimum)"
   ]
  },
  {
   "cell_type": "code",
   "execution_count": null,
   "id": "215f32b4",
   "metadata": {},
   "outputs": [],
   "source": [
    "var1 = 10\n",
    "var2 = 20\n",
    "\n",
    "result = \"var 1 büyüktür var 2'den\" if var1 > var2 else \"var1 eşittir var2\" if var1 == var2 else \"var1 küçüktür var2'den\"\n",
    "print(result)\n",
    "\n",
    "liste = [1, 2, 3, 4, 5]\n",
    "value = 3\n",
    "\n",
    "result = \"value değeri {} listenin içindedir.\".format(value) if value in liste else \"value değeri {} listenin içinde değildir.\".format(value)\n",
    "print(result)\n"
   ]
  },
  {
   "cell_type": "code",
   "execution_count": 1,
   "id": "cd3ca754",
   "metadata": {},
   "outputs": [
    {
     "name": "stdout",
     "output_type": "stream",
     "text": [
      "0\n",
      "1\n",
      "2\n",
      "3\n"
     ]
    }
   ],
   "source": [
    "liste=[\"elma\",\"armut\",\"kiraz\",\"çilek\",\"muz\"]\n",
    "i=0\n",
    "while (i<len(liste)):\n",
    "print(liste[i])\n",
    "i += 1\n",
    "\n",
    "\n",
    "\n",
    "\n",
    "\n"
   ]
  },
  {
   "cell_type": "code",
   "execution_count": 5,
   "id": "e347db53",
   "metadata": {},
   "outputs": [
    {
     "name": "stdout",
     "output_type": "stream",
     "text": [
      "1\n",
      "135\n"
     ]
    }
   ],
   "source": [
    "\"\"\"\n",
    "cember_cevre\n",
    "\n",
    "parametre:r,pi\n",
    "\n",
    "output:çemberin çevresi\n",
    "\n",
    "\"\"\"\n",
    "\n",
    "output = 2*pi*r\n",
    "\n",
    "return output"
   ]
  },
  {
   "cell_type": "code",
   "execution_count": null,
   "id": "37d9b7ca",
   "metadata": {},
   "outputs": [],
   "source": [
    "# lambda function\n",
    "# Amaç daha hızlı bir şekilde fonksiyon yazabilmektir.\n",
    "\n",
    "def hesapla(x):\n",
    "    \n",
    "    output= x*x\n",
    "    \n",
    "    return output\n",
    "\n",
    "sonuc = hesapla(3)\n",
    "\n",
    "sonuc2 = lambda x: x*x \n",
    "\n",
    "print(sonuc2(3)) \n",
    "\n",
    "# iki fonksiyonda da x'in karesi hesaplanır. lambda ile daha kısa bir yazım olur.\n",
    "\n",
    "y = 3\n",
    "\n",
    "z = lambda x:x*y\n",
    "\n",
    "print(z(3)) # 9"
   ]
  },
  {
   "cell_type": "code",
   "execution_count": null,
   "id": "d9a779e7",
   "metadata": {},
   "outputs": [],
   "source": [
    "dictionary = {\"sevval\":22, \"utku\":6, \"nazli\":3}\n",
    "\n",
    "print(type(dictionary)) # dict\n",
    "\n",
    "print(dictionary[\"sevval\"]) # 22\n",
    "\n",
    "print(type(dictionary[\"sevval\"])) # int\n",
    "\n",
    "print(dictionary.keys()) # dict_keys(['sevval', 'utku', 'nazli'])\n",
    "\n",
    "print(dictionary.values()) # dict_values([22, 6, 3])\n",
    "\n",
    "def deneme():\n",
    "dictionary = {\"sevval\":22, \"utku\":6, \"nazli\":3}\n",
    "return dictionary\n",
    "\n",
    "dic = deneme()\n",
    "\n",
    "print(dic[\"sevval\"]) # 22"
   ]
  },
  {
   "cell_type": "code",
   "execution_count": null,
   "id": "e1ffe165",
   "metadata": {},
   "outputs": [],
   "source": [
    "\n",
    "dictionary = {\"sevval\":22, \"utku\":6, \"nazli\":3}\n",
    "\n",
    "if \"sevval\" in dictionary:\n",
    "    print(\"evet\")\n",
    "else:\n",
    "    print(\"hayır\")\n"
   ]
  }
 ],
 "metadata": {
  "kernelspec": {
   "display_name": "Python 3 (ipykernel)",
   "language": "python",
   "name": "python3"
  },
  "language_info": {
   "codemirror_mode": {
    "name": "ipython",
    "version": 3
   },
   "file_extension": ".py",
   "mimetype": "text/x-python",
   "name": "python",
   "nbconvert_exporter": "python",
   "pygments_lexer": "ipython3",
   "version": "3.9.12"
  }
 },
 "nbformat": 4,
 "nbformat_minor": 5
}
